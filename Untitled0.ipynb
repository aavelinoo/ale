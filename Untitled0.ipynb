{
  "nbformat": 4,
  "nbformat_minor": 0,
  "metadata": {
    "colab": {
      "provenance": [],
      "toc_visible": true,
      "authorship_tag": "ABX9TyN9gZrsitQE4wod9yxgHbxl",
      "include_colab_link": true
    },
    "kernelspec": {
      "name": "python3",
      "display_name": "Python 3"
    },
    "language_info": {
      "name": "python"
    }
  },
  "cells": [
    {
      "cell_type": "markdown",
      "metadata": {
        "id": "view-in-github",
        "colab_type": "text"
      },
      "source": [
        "<a href=\"https://colab.research.google.com/github/aavelinoo/ale/blob/main/Untitled0.ipynb\" target=\"_parent\"><img src=\"https://colab.research.google.com/assets/colab-badge.svg\" alt=\"Open In Colab\"/></a>"
      ]
    },
    {
      "cell_type": "code",
      "execution_count": 4,
      "metadata": {
        "colab": {
          "base_uri": "https://localhost:8080/"
        },
        "id": "DGgE7yigT88x",
        "outputId": "6a2790f8-1707-47d8-ba21-4e120cf7e18d"
      },
      "outputs": [
        {
          "output_type": "stream",
          "name": "stdout",
          "text": [
            "🔎 Coletando links de disciplinas...\n",
            "\n",
            "🏁 Concluído!\n"
          ]
        }
      ],
      "source": [
        "import requests\n",
        "from bs4 import BeautifulSoup\n",
        "import pandas as pd\n",
        "import re\n",
        "import os\n",
        "\n",
        "# 1. URL principal\n",
        "url = \"https://sites.google.com/edu.joinville.sc.gov.br/maletadoeducador/mapa-de-progressão-da-aprendizagem\"\n",
        "headers = {\"User-Agent\": \"Mozilla/5.0\"}\n",
        "\n",
        "# Cria pasta para salvar\n",
        "os.makedirs(\"disciplinas_csv\", exist_ok=True)\n",
        "\n",
        "# 2. Coleta links da página\n",
        "response = requests.get(url, headers=headers)\n",
        "soup = BeautifulSoup(response.text, \"html.parser\")\n",
        "\n",
        "disciplinas = {}\n",
        "\n",
        "print(\"🔎 Coletando links de disciplinas...\")\n",
        "\n",
        "for link in soup.find_all('a'):\n",
        "    texto = link.get_text(strip=True)\n",
        "    href = link.get('href')\n",
        "\n",
        "    if href and (\"docs.google.com/spreadsheets\" in href or \"drive.google.com\" in href):\n",
        "        disciplinas[texto] = href\n",
        "\n",
        "# 3. Processa planilhas\n",
        "for nome, link in disciplinas.items():\n",
        "    print(f\"\\n📥 Processando disciplina: {nome}\")\n",
        "\n",
        "    # Detectar se é Google Sheets\n",
        "    if \"spreadsheets\" in link:\n",
        "        # Extrair ID da planilha e GID (aba)\n",
        "        match = re.search(r'/d/([a-zA-Z0-9-_]+)', link)\n",
        "        gid_match = re.search(r'gid=([0-9]+)', link)\n",
        "\n",
        "        if match:\n",
        "            sheet_id = match.group(1)\n",
        "            gid = gid_match.group(1) if gid_match else \"0\"\n",
        "\n",
        "            # Converte pra CSV direto\n",
        "            csv_url = f\"https://docs.google.com/spreadsheets/d/{sheet_id}/export?format=csv&gid={gid}\"\n",
        "            try:\n",
        "                df = pd.read_csv(csv_url)\n",
        "\n",
        "                # Filtro por colunas que contenham \"expectativa\" ou \"habilidade\"\n",
        "                cols_interesse = [col for col in df.columns if re.search(r'expectativa|habilidade', col, re.IGNORECASE)]\n",
        "\n",
        "                if cols_interesse:\n",
        "                    df_filtrado = df[cols_interesse].dropna(how='all')\n",
        "                    df_filtrado.to_csv(f\"disciplinas_csv/{nome}.csv\", index=False)\n",
        "                    print(f\"✅ Salvo: disciplinas_csv/{nome}.csv\")\n",
        "                else:\n",
        "                    print(\"⚠️ Nenhuma coluna de expectativa ou habilidade encontrada.\")\n",
        "            except Exception as e:\n",
        "                print(f\"❌ Erro ao processar planilha: {e}\")\n",
        "        else:\n",
        "            print(\"⚠️ Link de planilha malformado.\")\n",
        "    else:\n",
        "        print(\"📄 Documento não é uma planilha, ignorado por enquanto.\")\n",
        "\n",
        "print(\"\\n🏁 Concluído!\")"
      ]
    }
  ]
}